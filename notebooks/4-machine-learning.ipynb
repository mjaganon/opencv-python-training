{
 "cells": [
  {
   "cell_type": "code",
   "execution_count": 9,
   "metadata": {
    "scrolled": true
   },
   "outputs": [
    {
     "name": "stdout",
     "output_type": "stream",
     "text": [
      "(1000, 2000)\n",
      "(50, 100, 20, 20)\n"
     ]
    }
   ],
   "source": [
    "#DIGIT MNIST USING KNN\n",
    "import cv2\n",
    "import numpy as np\n",
    "\n",
    "#get shapes\n",
    "digits = cv2.imread ('../datasets/digits.png', 0)\n",
    "print(digits.shape)\n",
    "\n",
    "#split\n",
    "images = [np.hsplit(row, 100)\n",
    "         for row in\n",
    "         np.vsplit( digits, 50)]\n",
    "images = np.array(images, dtype=np.float32)\n",
    "print(images.shape)"
   ]
  },
  {
   "cell_type": "code",
   "execution_count": 10,
   "metadata": {},
   "outputs": [
    {
     "name": "stdout",
     "output_type": "stream",
     "text": [
      "(2500, 400)\n",
      "(2500, 400)\n"
     ]
    }
   ],
   "source": [
    "#split into train/test 2500 per test images\n",
    "train_features = images[:, :50].reshape(-1, (20 * 20))\n",
    "test_features = images[:, 50:100].reshape(-1, (20 * 20))\n",
    "\n",
    "#print train/test\n",
    "print(train_features.shape)\n",
    "print(test_features.shape)"
   ]
  },
  {
   "cell_type": "code",
   "execution_count": 11,
   "metadata": {},
   "outputs": [
    {
     "name": "stdout",
     "output_type": "stream",
     "text": [
      "(2500, 1)\n",
      "(2500, 1)\n"
     ]
    }
   ],
   "source": [
    "#create labels\n",
    "k = np.arange(10)\n",
    "train_labels = np.repeat(k, 250).reshape(-1, 1)\n",
    "test_labels= train_labels.copy()\n",
    "\n",
    "#print labels\n",
    "print(train_labels.shape)\n",
    "print(test_labels.shape)"
   ]
  },
  {
   "cell_type": "code",
   "execution_count": 15,
   "metadata": {},
   "outputs": [
    {
     "name": "stdout",
     "output_type": "stream",
     "text": [
      "Accuracy: 91.64\n"
     ]
    }
   ],
   "source": [
    "#create kNN model\n",
    "knn = cv2.ml.KNearest_create()\n",
    "\n",
    "#train the kNN model\n",
    "knn.train(train_features, cv2.ml.ROW_SAMPLE, train_labels)\n",
    "\n",
    "ret, result, neighbors, dist = knn.findNearest(test_features, 3)\n",
    "\n",
    "#check if the results are correct\n",
    "matches = np.equal(result, test_labels)\n",
    "\n",
    "#convert bool to int\n",
    "matches = matches.astype(np.int)\n",
    "\n",
    "#count the correct predictions\n",
    "correct = np.count_nonzero(matches)\n",
    "\n",
    "#compute the accuracy\n",
    "accuracy = (correct * 100.0) / result.size\n",
    "\n",
    "#display the accuracy\n",
    "print('Accuracy: {}'.format(accuracy))  "
   ]
  },
  {
   "cell_type": "code",
   "execution_count": 16,
   "metadata": {},
   "outputs": [
    {
     "name": "stdout",
     "output_type": "stream",
     "text": [
      "(840, 840)\n"
     ]
    }
   ],
   "source": [
    "#ACTIVITY 1\n",
    "#get shapes\n",
    "fashion = cv2.imread ('../datasets/fashion.png', 0)\n",
    "print(fashion.shape)"
   ]
  },
  {
   "cell_type": "code",
   "execution_count": 26,
   "metadata": {},
   "outputs": [
    {
     "name": "stdout",
     "output_type": "stream",
     "text": [
      "(30, 30, 28, 28)\n"
     ]
    },
    {
     "data": {
      "image/png": "[encoded data removed]",
      "text/plain": [
       "<Figure size 432x288 with 1 Axes>"
      ]
     },
     "metadata": {},
     "output_type": "display_data"
    }
   ],
   "source": [
    "#split\n",
    "images = [np.hsplit(row, 30)\n",
    "         for row in\n",
    "         np.vsplit( fashion, 30)]\n",
    "\n",
    "#convert to array\n",
    "images = np.array(images, dtype=np.float32)\n",
    "print(images.shape)\n",
    "\n",
    "#display image\n",
    "import matplotlib.pyplot as plt\n",
    "plt.imshow(images[29,29], cmap = 'gray')\n",
    "plt.show()"
   ]
  },
  {
   "cell_type": "code",
   "execution_count": 19,
   "metadata": {},
   "outputs": [
    {
     "name": "stdout",
     "output_type": "stream",
     "text": [
      "(450, 784)\n",
      "(450, 784)\n"
     ]
    }
   ],
   "source": [
    "#Split dataset to 50/50 for arithmetic convenience\n",
    "#split into train/test 2500 per test images =(50, 100, 20, 20)\n",
    "train_features = images[:, :15].reshape(-1, (28 * 28))\n",
    "test_features = images[:, 15:30].reshape(-1, (28 * 28))\n",
    "\n",
    "#print train/test\n",
    "print(train_features.shape)\n",
    "print(test_features.shape)"
   ]
  },
  {
   "cell_type": "code",
   "execution_count": 21,
   "metadata": {},
   "outputs": [
    {
     "name": "stdout",
     "output_type": "stream",
     "text": [
      "(450, 1)\n",
      "(450, 1)\n"
     ]
    }
   ],
   "source": [
    "#create labels\n",
    "k = np.arange(10)\n",
    "train_labels = np.repeat(k, 45).reshape(-1, 1)\n",
    "test_labels= train_labels.copy()\n",
    "\n",
    "#display labels\n",
    "print(train_labels.shape)\n",
    "print(test_labels.shape)"
   ]
  },
  {
   "cell_type": "code",
   "execution_count": 22,
   "metadata": {},
   "outputs": [
    {
     "name": "stdout",
     "output_type": "stream",
     "text": [
      "Accuracy: 70.88888888888889\n"
     ]
    }
   ],
   "source": [
    "#create kNN model\n",
    "knn = cv2.ml.KNearest_create()\n",
    "\n",
    "#train the kNN model\n",
    "knn.train(train_features, cv2.ml.ROW_SAMPLE, train_labels)\n",
    "\n",
    "ret, result, neighbors, dist = knn.findNearest(test_features, 3)\n",
    "\n",
    "#check if the results are correct\n",
    "matches = np.equal(result, test_labels)\n",
    "\n",
    "#convert bool to int\n",
    "matches = matches.astype(np.int)\n",
    "\n",
    "#count the correct predictions\n",
    "correct = np.count_nonzero(matches)\n",
    "\n",
    "#compute the accuracy\n",
    "accuracy = (correct * 100.0) / result.size\n",
    "\n",
    "#display the accuracy\n",
    "print('Accuracy: {}'.format(accuracy))  "
   ]
  },
  {
   "cell_type": "code",
   "execution_count": 30,
   "metadata": {},
   "outputs": [
    {
     "name": "stdout",
     "output_type": "stream",
     "text": [
      "(1000, 2000)\n",
      "(50, 100, 20, 20)\n",
      "(2500, 400)\n",
      "(2500, 400)\n",
      "(2500, 1)\n",
      "(2500, 1)\n",
      "Accuracy: 90.44\n"
     ]
    }
   ],
   "source": [
    "#DIGIT MNIST USING SVM\n",
    "import cv2\n",
    "import numpy as np\n",
    "\n",
    "#get shapes\n",
    "digits = cv2.imread ('../datasets/digits.png', 0)\n",
    "print(digits.shape)\n",
    "\n",
    "#split\n",
    "images = [np.hsplit(row, 100)\n",
    "         for row in\n",
    "         np.vsplit( digits, 50)]\n",
    "images = np.array(images, dtype=np.float32)\n",
    "print(images.shape)\n",
    "\n",
    "#split into train/test 2500 per test images\n",
    "train_features = images[:, :50].reshape(-1, (20 * 20))\n",
    "test_features = images[:, 50:100].reshape(-1, (20 * 20))\n",
    "\n",
    "#print train/test\n",
    "print(train_features.shape)\n",
    "print(test_features.shape)\n",
    "\n",
    "#create labels\n",
    "k = np.arange(10)\n",
    "train_labels = np.repeat(k, 250).reshape(-1, 1)\n",
    "test_labels= train_labels.copy()\n",
    "\n",
    "#print labels\n",
    "print(train_labels.shape)\n",
    "print(test_labels.shape)\n",
    "\n",
    "#using SVM Model\n",
    "model = cv2.ml.SVM_create()\n",
    "\n",
    "model.setKernel(cv2.ml.SVM_LINEAR)\n",
    "model.setC(2.67)\n",
    "model.setGamma(5.383)\n",
    "model.setType(cv2.ml.SVM_C_SVC)\n",
    "\n",
    "#training the SVM\n",
    "model.train(train_features, cv2.ml.ROW_SAMPLE, train_labels)\n",
    "\n",
    "#using trained SVM\n",
    "result = model.predict(test_features)\n",
    "\n",
    "#measure model accuracy\n",
    "matches = np.equal(result[1], test_labels)\n",
    "\n",
    "#convert bool to int\n",
    "matches = matches.astype(np.int)\n",
    "\n",
    "#count the correct predictions\n",
    "correct = np.count_nonzero(matches)\n",
    "\n",
    "#compute the accuracy\n",
    "accuracy = (correct * 100.0) / result[1].size\n",
    "\n",
    "#display the accuracy\n",
    "print('Accuracy: {}'.format(accuracy))  \n"
   ]
  },
  {
   "cell_type": "code",
   "execution_count": 31,
   "metadata": {},
   "outputs": [
    {
     "name": "stdout",
     "output_type": "stream",
     "text": [
      "(840, 840)\n",
      "(30, 30, 28, 28)\n"
     ]
    },
    {
     "data": {
      "image/png": "[encoded data removed]",
      "text/plain": [
       "<Figure size 432x288 with 1 Axes>"
      ]
     },
     "metadata": {},
     "output_type": "display_data"
    },
    {
     "name": "stdout",
     "output_type": "stream",
     "text": [
      "(450, 784)\n",
      "(450, 784)\n",
      "(450, 1)\n",
      "(450, 1)\n",
      "Accuracy: 74.66666666666667\n"
     ]
    }
   ],
   "source": [
    "#FASHION USING SVM\n",
    "#get shapes\n",
    "fashion = cv2.imread ('../datasets/fashion.png', 0)\n",
    "print(fashion.shape)\n",
    "#split\n",
    "images = [np.hsplit(row, 30)\n",
    "         for row in\n",
    "         np.vsplit( fashion, 30)]\n",
    "\n",
    "#convert to array\n",
    "images = np.array(images, dtype=np.float32)\n",
    "print(images.shape)\n",
    "\n",
    "#display image\n",
    "import matplotlib.pyplot as plt\n",
    "plt.imshow(images[29,29], cmap = 'gray')\n",
    "plt.show()\n",
    "\n",
    "#Split dataset to 50/50 for arithmetic convenience\n",
    "#split into train/test 2500 per test images =(50, 100, 20, 20)\n",
    "train_features = images[:, :15].reshape(-1, (28 * 28))\n",
    "test_features = images[:, 15:30].reshape(-1, (28 * 28))\n",
    "\n",
    "#print train/test\n",
    "print(train_features.shape)\n",
    "print(test_features.shape)\n",
    "\n",
    "#create labels\n",
    "k = np.arange(10)\n",
    "train_labels = np.repeat(k, 45).reshape(-1, 1)\n",
    "test_labels= train_labels.copy()\n",
    "\n",
    "#display labels\n",
    "print(train_labels.shape)\n",
    "print(test_labels.shape)\n",
    "\n",
    "#using SVM Model\n",
    "model = cv2.ml.SVM_create()\n",
    "\n",
    "model.setKernel(cv2.ml.SVM_LINEAR)\n",
    "model.setC(2.67)\n",
    "model.setGamma(5.383)\n",
    "model.setType(cv2.ml.SVM_C_SVC)\n",
    "\n",
    "#training the SVM\n",
    "model.train(train_features, cv2.ml.ROW_SAMPLE, train_labels)\n",
    "\n",
    "#using trained SVM\n",
    "result = model.predict(test_features)\n",
    "\n",
    "#measure model accuracy\n",
    "matches = np.equal(result[1], test_labels)\n",
    "\n",
    "#convert bool to int\n",
    "matches = matches.astype(np.int)\n",
    "\n",
    "#count the correct predictions\n",
    "correct = np.count_nonzero(matches)\n",
    "\n",
    "#compute the accuracy\n",
    "accuracy = (correct * 100.0) / result[1].size\n",
    "\n",
    "#display the accuracy\n",
    "print('Accuracy: {}'.format(accuracy))  "
   ]
  },
  {
   "cell_type": "markdown",
   "metadata": {},
   "source": [
    "## Mean Normalization"
   ]
  },
  {
   "cell_type": "code",
   "execution_count": 32,
   "metadata": {},
   "outputs": [
    {
     "name": "stdout",
     "output_type": "stream",
     "text": [
      "(1000, 2000)\n",
      "(50, 100, 20, 20)\n",
      "(2500, 400)\n",
      "(2500, 400)\n",
      "(2500, 1)\n",
      "(2500, 1)\n",
      "Accuracy: 79.24\n"
     ]
    }
   ],
   "source": [
    "#DIGIT MNIST USING KNN\n",
    "import cv2\n",
    "import numpy as np\n",
    "\n",
    "#get shapes\n",
    "digits = cv2.imread ('../datasets/digits.png', 0)\n",
    "print(digits.shape)\n",
    "\n",
    "#split\n",
    "images = [np.hsplit(row, 100)\n",
    "         for row in\n",
    "         np.vsplit( digits, 50)]\n",
    "images = np.array(images, dtype=np.float32)\n",
    "print(images.shape)\n",
    "\n",
    "#split into train/test 2500 per test images\n",
    "train_features = images[:, :50].reshape(-1, (20 * 20))\n",
    "test_features = images[:, 50:100].reshape(-1, (20 * 20))\n",
    "\n",
    "#print train/test\n",
    "print(train_features.shape)\n",
    "print(test_features.shape)\n",
    "\n",
    "#create labels\n",
    "k = np.arange(10)\n",
    "train_labels = np.repeat(k, 250).reshape(-1, 1)\n",
    "test_labels= train_labels.copy()\n",
    "\n",
    "#print labels\n",
    "print(train_labels.shape)\n",
    "print(test_labels.shape)\n",
    "\n",
    "#Mean Normalization\n",
    "train_features -= np.mean(train_features, axis = 0)\n",
    "test_features -= np.mean(train_features, axis = 0)\n",
    "\n",
    "#create kNN model\n",
    "knn = cv2.ml.KNearest_create()\n",
    "\n",
    "#train the kNN model\n",
    "knn.train(train_features, cv2.ml.ROW_SAMPLE, train_labels)\n",
    "\n",
    "ret, result, neighbors, dist = knn.findNearest(test_features, 3)\n",
    "\n",
    "#check if the results are correct\n",
    "matches = np.equal(result, test_labels)\n",
    "\n",
    "#convert bool to int\n",
    "matches = matches.astype(np.int)\n",
    "\n",
    "#count the correct predictions\n",
    "correct = np.count_nonzero(matches)\n",
    "\n",
    "#compute the accuracy\n",
    "accuracy = (correct * 100.0) / result.size\n",
    "\n",
    "#display the accuracy\n",
    "print('Accuracy: {}'.format(accuracy))  "
   ]
  },
  {
   "cell_type": "code",
   "execution_count": 33,
   "metadata": {},
   "outputs": [
    {
     "name": "stdout",
     "output_type": "stream",
     "text": [
      "(840, 840)\n",
      "(30, 30, 28, 28)\n"
     ]
    },
    {
     "data": {
      "image/png": "[encoded data removed]",
      "text/plain": [
       "<Figure size 432x288 with 1 Axes>"
      ]
     },
     "metadata": {},
     "output_type": "display_data"
    },
    {
     "name": "stdout",
     "output_type": "stream",
     "text": [
      "(450, 784)\n",
      "(450, 784)\n",
      "(450, 1)\n",
      "(450, 1)\n",
      "Accuracy: 52.0\n"
     ]
    }
   ],
   "source": [
    "#FASHION USING KNN\n",
    "#get shapes\n",
    "fashion = cv2.imread ('../datasets/fashion.png', 0)\n",
    "print(fashion.shape)\n",
    "#split\n",
    "images = [np.hsplit(row, 30)\n",
    "         for row in\n",
    "         np.vsplit( fashion, 30)]\n",
    "\n",
    "#convert to array\n",
    "images = np.array(images, dtype=np.float32)\n",
    "print(images.shape)\n",
    "\n",
    "#display image\n",
    "import matplotlib.pyplot as plt\n",
    "plt.imshow(images[29,29], cmap = 'gray')\n",
    "plt.show()\n",
    "\n",
    "#Split dataset to 50/50 for arithmetic convenience\n",
    "#split into train/test 2500 per test images =(50, 100, 20, 20)\n",
    "train_features = images[:, :15].reshape(-1, (28 * 28))\n",
    "test_features = images[:, 15:30].reshape(-1, (28 * 28))\n",
    "\n",
    "#print train/test\n",
    "print(train_features.shape)\n",
    "print(test_features.shape)\n",
    "\n",
    "#create labels\n",
    "k = np.arange(10)\n",
    "train_labels = np.repeat(k, 45).reshape(-1, 1)\n",
    "test_labels= train_labels.copy()\n",
    "\n",
    "#display labels\n",
    "print(train_labels.shape)\n",
    "print(test_labels.shape)\n",
    "\n",
    "#Mean Normalization\n",
    "train_features -= np.mean(train_features, axis = 0)\n",
    "test_features -= np.mean(train_features, axis = 0)\n",
    "\n",
    "#create kNN model\n",
    "knn = cv2.ml.KNearest_create()\n",
    "\n",
    "#train the kNN model\n",
    "knn.train(train_features, cv2.ml.ROW_SAMPLE, train_labels)\n",
    "\n",
    "ret, result, neighbors, dist = knn.findNearest(test_features, 3)\n",
    "\n",
    "#check if the results are correct\n",
    "matches = np.equal(result, test_labels)\n",
    "\n",
    "#convert bool to int\n",
    "matches = matches.astype(np.int)\n",
    "\n",
    "#count the correct predictions\n",
    "correct = np.count_nonzero(matches)\n",
    "\n",
    "#compute the accuracy\n",
    "accuracy = (correct * 100.0) / result.size\n",
    "\n",
    "#display the accuracy\n",
    "print('Accuracy: {}'.format(accuracy))  "
   ]
  },
  {
   "cell_type": "code",
   "execution_count": 34,
   "metadata": {},
   "outputs": [
    {
     "name": "stdout",
     "output_type": "stream",
     "text": [
      "(1000, 2000)\n",
      "(50, 100, 20, 20)\n",
      "(2500, 400)\n",
      "(2500, 400)\n",
      "(2500, 1)\n",
      "(2500, 1)\n",
      "Accuracy: 66.8\n"
     ]
    }
   ],
   "source": [
    "#DIGIT MNIST USING SVM\n",
    "import cv2\n",
    "import numpy as np\n",
    "\n",
    "#get shapes\n",
    "digits = cv2.imread ('../datasets/digits.png', 0)\n",
    "print(digits.shape)\n",
    "\n",
    "#split\n",
    "images = [np.hsplit(row, 100)\n",
    "         for row in\n",
    "         np.vsplit( digits, 50)]\n",
    "images = np.array(images, dtype=np.float32)\n",
    "print(images.shape)\n",
    "\n",
    "#split into train/test 2500 per test images\n",
    "train_features = images[:, :50].reshape(-1, (20 * 20))\n",
    "test_features = images[:, 50:100].reshape(-1, (20 * 20))\n",
    "\n",
    "#print train/test\n",
    "print(train_features.shape)\n",
    "print(test_features.shape)\n",
    "\n",
    "#create labels\n",
    "k = np.arange(10)\n",
    "train_labels = np.repeat(k, 250).reshape(-1, 1)\n",
    "test_labels= train_labels.copy()\n",
    "\n",
    "#print labels\n",
    "print(train_labels.shape)\n",
    "print(test_labels.shape)\n",
    "\n",
    "#Mean Normalization\n",
    "train_features -= np.mean(train_features, axis = 0)\n",
    "test_features -= np.mean(train_features, axis = 0)\n",
    "\n",
    "#using SVM Model\n",
    "model = cv2.ml.SVM_create()\n",
    "\n",
    "model.setKernel(cv2.ml.SVM_LINEAR)\n",
    "model.setC(2.67)\n",
    "model.setGamma(5.383)\n",
    "model.setType(cv2.ml.SVM_C_SVC)\n",
    "\n",
    "#training the SVM\n",
    "model.train(train_features, cv2.ml.ROW_SAMPLE, train_labels)\n",
    "\n",
    "#using trained SVM\n",
    "result = model.predict(test_features)\n",
    "\n",
    "#measure model accuracy\n",
    "matches = np.equal(result[1], test_labels)\n",
    "\n",
    "#convert bool to int\n",
    "matches = matches.astype(np.int)\n",
    "\n",
    "#count the correct predictions\n",
    "correct = np.count_nonzero(matches)\n",
    "\n",
    "#compute the accuracy\n",
    "accuracy = (correct * 100.0) / result[1].size\n",
    "\n",
    "#display the accuracy\n",
    "print('Accuracy: {}'.format(accuracy))  \n"
   ]
  },
  {
   "cell_type": "code",
   "execution_count": 35,
   "metadata": {},
   "outputs": [
    {
     "name": "stdout",
     "output_type": "stream",
     "text": [
      "(840, 840)\n",
      "(30, 30, 28, 28)\n"
     ]
    },
    {
     "data": {
      "image/png": "[encoded data removed]",
      "text/plain": [
       "<Figure size 432x288 with 1 Axes>"
      ]
     },
     "metadata": {},
     "output_type": "display_data"
    },
    {
     "name": "stdout",
     "output_type": "stream",
     "text": [
      "(450, 784)\n",
      "(450, 784)\n",
      "(450, 1)\n",
      "(450, 1)\n",
      "Accuracy: 56.44444444444444\n"
     ]
    }
   ],
   "source": [
    "#FASHION USING SVM\n",
    "#get shapes\n",
    "fashion = cv2.imread ('../datasets/fashion.png', 0)\n",
    "print(fashion.shape)\n",
    "#split\n",
    "images = [np.hsplit(row, 30)\n",
    "         for row in\n",
    "         np.vsplit( fashion, 30)]\n",
    "\n",
    "#convert to array\n",
    "images = np.array(images, dtype=np.float32)\n",
    "print(images.shape)\n",
    "\n",
    "#display image\n",
    "import matplotlib.pyplot as plt\n",
    "plt.imshow(images[29,29], cmap = 'gray')\n",
    "plt.show()\n",
    "\n",
    "#Split dataset to 50/50 for arithmetic convenience\n",
    "#split into train/test 2500 per test images =(50, 100, 20, 20)\n",
    "train_features = images[:, :15].reshape(-1, (28 * 28))\n",
    "test_features = images[:, 15:30].reshape(-1, (28 * 28))\n",
    "\n",
    "#print train/test\n",
    "print(train_features.shape)\n",
    "print(test_features.shape)\n",
    "\n",
    "#create labels\n",
    "k = np.arange(10)\n",
    "train_labels = np.repeat(k, 45).reshape(-1, 1)\n",
    "test_labels= train_labels.copy()\n",
    "\n",
    "#display labels\n",
    "print(train_labels.shape)\n",
    "print(test_labels.shape)\n",
    "\n",
    "#Mean Normalization\n",
    "train_features -= np.mean(train_features, axis = 0)\n",
    "test_features -= np.mean(train_features, axis = 0)\n",
    "\n",
    "#using SVM Model\n",
    "model = cv2.ml.SVM_create()\n",
    "\n",
    "model.setKernel(cv2.ml.SVM_LINEAR)\n",
    "model.setC(2.67)\n",
    "model.setGamma(5.383)\n",
    "model.setType(cv2.ml.SVM_C_SVC)\n",
    "\n",
    "#training the SVM\n",
    "model.train(train_features, cv2.ml.ROW_SAMPLE, train_labels)\n",
    "\n",
    "#using trained SVM\n",
    "result = model.predict(test_features)\n",
    "\n",
    "#measure model accuracy\n",
    "matches = np.equal(result[1], test_labels)\n",
    "\n",
    "#convert bool to int\n",
    "matches = matches.astype(np.int)\n",
    "\n",
    "#count the correct predictions\n",
    "correct = np.count_nonzero(matches)\n",
    "\n",
    "#compute the accuracy\n",
    "accuracy = (correct * 100.0) / result[1].size\n",
    "\n",
    "#display the accuracy\n",
    "print('Accuracy: {}'.format(accuracy))  "
   ]
  },
  {
   "cell_type": "markdown",
   "metadata": {},
   "source": [
    "### Principal Component Analysis"
   ]
  },
  {
   "cell_type": "code",
   "execution_count": 41,
   "metadata": {},
   "outputs": [
    {
     "name": "stdout",
     "output_type": "stream",
     "text": [
      "(1000, 2000)\n",
      "(50, 100, 20, 20)\n"
     ]
    },
    {
     "ename": "ValueError",
     "evalue": "Found array with dim 4. Estimator expected <= 2.",
     "output_type": "error",
     "traceback": [
      "\u001b[1;31m---------------------------------------------------------------------------\u001b[0m",
      "\u001b[1;31mValueError\u001b[0m                                Traceback (most recent call last)",
      "\u001b[1;32m<ipython-input-41-b984bf0692b0>\u001b[0m in \u001b[0;36m<module>\u001b[1;34m()\u001b[0m\n\u001b[0;32m     18\u001b[0m \u001b[0mpca\u001b[0m \u001b[1;33m=\u001b[0m \u001b[0mPCA\u001b[0m \u001b[1;33m(\u001b[0m\u001b[0mn_components\u001b[0m\u001b[1;33m=\u001b[0m\u001b[0mimages\u001b[0m\u001b[1;33m.\u001b[0m\u001b[0mshape\u001b[0m\u001b[1;33m[\u001b[0m\u001b[1;36m1\u001b[0m\u001b[1;33m]\u001b[0m\u001b[1;33m)\u001b[0m\u001b[1;33m\u001b[0m\u001b[0m\n\u001b[0;32m     19\u001b[0m \u001b[1;33m\u001b[0m\u001b[0m\n\u001b[1;32m---> 20\u001b[1;33m \u001b[0mpca\u001b[0m\u001b[1;33m.\u001b[0m\u001b[0mfit\u001b[0m\u001b[1;33m(\u001b[0m\u001b[0mimages\u001b[0m\u001b[1;33m)\u001b[0m\u001b[1;33m\u001b[0m\u001b[0m\n\u001b[0m\u001b[0;32m     21\u001b[0m \u001b[1;33m\u001b[0m\u001b[0m\n\u001b[0;32m     22\u001b[0m \u001b[0mplt\u001b[0m\u001b[1;33m.\u001b[0m\u001b[0mplot\u001b[0m\u001b[1;33m(\u001b[0m\u001b[0mnp\u001b[0m\u001b[1;33m.\u001b[0m\u001b[0mcunsum\u001b[0m\u001b[1;33m(\u001b[0m\u001b[0mpca\u001b[0m\u001b[1;33m.\u001b[0m\u001b[0mexplained_variance_ratio_\u001b[0m\u001b[1;33m)\u001b[0m\u001b[1;33m)\u001b[0m\u001b[1;33m\u001b[0m\u001b[0m\n",
      "\u001b[1;32m~\\AppData\\Local\\Continuum\\anaconda3\\lib\\site-packages\\sklearn\\decomposition\\pca.py\u001b[0m in \u001b[0;36mfit\u001b[1;34m(self, X, y)\u001b[0m\n\u001b[0;32m    327\u001b[0m             \u001b[0mReturns\u001b[0m \u001b[0mthe\u001b[0m \u001b[0minstance\u001b[0m \u001b[0mitself\u001b[0m\u001b[1;33m.\u001b[0m\u001b[1;33m\u001b[0m\u001b[0m\n\u001b[0;32m    328\u001b[0m         \"\"\"\n\u001b[1;32m--> 329\u001b[1;33m         \u001b[0mself\u001b[0m\u001b[1;33m.\u001b[0m\u001b[0m_fit\u001b[0m\u001b[1;33m(\u001b[0m\u001b[0mX\u001b[0m\u001b[1;33m)\u001b[0m\u001b[1;33m\u001b[0m\u001b[0m\n\u001b[0m\u001b[0;32m    330\u001b[0m         \u001b[1;32mreturn\u001b[0m \u001b[0mself\u001b[0m\u001b[1;33m\u001b[0m\u001b[0m\n\u001b[0;32m    331\u001b[0m \u001b[1;33m\u001b[0m\u001b[0m\n",
      "\u001b[1;32m~\\AppData\\Local\\Continuum\\anaconda3\\lib\\site-packages\\sklearn\\decomposition\\pca.py\u001b[0m in \u001b[0;36m_fit\u001b[1;34m(self, X)\u001b[0m\n\u001b[0;32m    368\u001b[0m \u001b[1;33m\u001b[0m\u001b[0m\n\u001b[0;32m    369\u001b[0m         X = check_array(X, dtype=[np.float64, np.float32], ensure_2d=True,\n\u001b[1;32m--> 370\u001b[1;33m                         copy=self.copy)\n\u001b[0m\u001b[0;32m    371\u001b[0m \u001b[1;33m\u001b[0m\u001b[0m\n\u001b[0;32m    372\u001b[0m         \u001b[1;31m# Handle n_components==None\u001b[0m\u001b[1;33m\u001b[0m\u001b[1;33m\u001b[0m\u001b[0m\n",
      "\u001b[1;32m~\\AppData\\Local\\Continuum\\anaconda3\\lib\\site-packages\\sklearn\\utils\\validation.py\u001b[0m in \u001b[0;36mcheck_array\u001b[1;34m(array, accept_sparse, dtype, order, copy, force_all_finite, ensure_2d, allow_nd, ensure_min_samples, ensure_min_features, warn_on_dtype, estimator)\u001b[0m\n\u001b[0;32m    449\u001b[0m         \u001b[1;32mif\u001b[0m \u001b[1;32mnot\u001b[0m \u001b[0mallow_nd\u001b[0m \u001b[1;32mand\u001b[0m \u001b[0marray\u001b[0m\u001b[1;33m.\u001b[0m\u001b[0mndim\u001b[0m \u001b[1;33m>=\u001b[0m \u001b[1;36m3\u001b[0m\u001b[1;33m:\u001b[0m\u001b[1;33m\u001b[0m\u001b[0m\n\u001b[0;32m    450\u001b[0m             raise ValueError(\"Found array with dim %d. %s expected <= 2.\"\n\u001b[1;32m--> 451\u001b[1;33m                              % (array.ndim, estimator_name))\n\u001b[0m\u001b[0;32m    452\u001b[0m         \u001b[1;32mif\u001b[0m \u001b[0mforce_all_finite\u001b[0m\u001b[1;33m:\u001b[0m\u001b[1;33m\u001b[0m\u001b[0m\n\u001b[0;32m    453\u001b[0m             \u001b[0m_assert_all_finite\u001b[0m\u001b[1;33m(\u001b[0m\u001b[0marray\u001b[0m\u001b[1;33m)\u001b[0m\u001b[1;33m\u001b[0m\u001b[0m\n",
      "\u001b[1;31mValueError\u001b[0m: Found array with dim 4. Estimator expected <= 2."
     ]
    }
   ],
   "source": [
    "#DIGIT MNIST USING KNN\n",
    "import cv2\n",
    "import numpy as np\n",
    "from sklearn.decomposition import PCA\n",
    "\n",
    "#get shapes\n",
    "digits = cv2.imread ('../datasets/digits.png', 0)\n",
    "print(digits.shape)\n",
    "\n",
    "#split\n",
    "images = [np.hsplit(row, 100)\n",
    "         for row in\n",
    "         np.vsplit( digits, 50)]\n",
    "images = np.array(images, dtype=np.float32)\n",
    "print(images.shape)\n",
    "\n",
    "#PCA\n",
    "pca = PCA (n_components=images.shape[1])\n",
    "\n",
    "pca.fit(images)\n",
    "\n",
    "plt.plot(np.cunsum(pca.explained_variance_ratio_))\n",
    "plt.xlabel('Number of components')\n",
    "plt.ylabel('Cumulative explained variance')\n",
    "plt.show()\n",
    "\n",
    "pca = PCA(n_components=100)\n",
    "\n",
    "#split into train/test 2500 per test images\n",
    "train_features = images[:, :50].reshape(-1, (20 * 20))\n",
    "test_features = images[:, 50:100].reshape(-1, (20 * 20))\n",
    "\n",
    "#PCA fit\n",
    "pca.fit(train_features)\n",
    "\n",
    "#print train/test\n",
    "print(train_features.shape)\n",
    "print(test_features.shape)\n",
    "\n",
    "\n",
    "#PCA\n",
    "train_features = pca.transform(train_features)\n",
    "test_features = pca.transform(test_features)\n",
    "\n",
    "print(train_features.shape, test_features.shape)\n",
    "\n",
    "#create labels\n",
    "k = np.arange(10)\n",
    "train_labels = np.repeat(k, 250).reshape(-1, 1)\n",
    "test_labels= train_labels.copy()\n",
    "\n",
    "#print labels\n",
    "print(train_labels.shape)\n",
    "print(test_labels.shape)\n",
    "\n",
    "#create kNN model\n",
    "knn = cv2.ml.KNearest_create()\n",
    "\n",
    "#train the kNN model\n",
    "knn.train(train_features, cv2.ml.ROW_SAMPLE, train_labels)\n",
    "\n",
    "ret, result, neighbors, dist = knn.findNearest(test_features, 3)\n",
    "\n",
    "#check if the results are correct\n",
    "matches = np.equal(result, test_labels)\n",
    "\n",
    "#convert bool to int\n",
    "matches = matches.astype(np.int)\n",
    "\n",
    "#count the correct predictions\n",
    "correct = np.count_nonzero(matches)\n",
    "\n",
    "#compute the accuracy\n",
    "accuracy = (correct * 100.0) / result.size\n",
    "\n",
    "#display the accuracy\n",
    "print('Accuracy: {}'.format(accuracy))  "
   ]
  },
  {
   "cell_type": "code",
   "execution_count": null,
   "metadata": {},
   "outputs": [],
   "source": []
  }
 ],
 "metadata": {
  "kernelspec": {
   "display_name": "Python 3",
   "language": "python",
   "name": "python3"
  },
  "language_info": {
   "codemirror_mode": {
    "name": "ipython",
    "version": 3
   },
   "file_extension": ".py",
   "mimetype": "text/x-python",
   "name": "python",
   "nbconvert_exporter": "python",
   "pygments_lexer": "ipython3",
   "version": "3.6.5"
  }
 },
 "nbformat": 4,
 "nbformat_minor": 2
}
